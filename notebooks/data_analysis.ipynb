{
  "cells": [
    {
      "cell_type": "code",
      "execution_count": 1,
      "metadata": {
        "id": "hHWPVbLLqW4-"
      },
      "outputs": [],
      "source": [
        "import pandas as pd\n",
        "import string\n",
        "import matplotlib.pyplot as plt\n",
        "import torch\n",
        "from transformers import DistilBertTokenizer, DistilBertForSequenceClassification, AdamW\n",
        "from sklearn.model_selection import train_test_split\n",
        "from tqdm.autonotebook import tqdm\n",
        "from torch.utils.data import random_split\n",
        "from sklearn.metrics import confusion_matrix\n",
        "import numpy as np"
      ]
    },
    {
      "cell_type": "code",
      "execution_count": 2,
      "metadata": {
        "id": "cTvW8NfWqW5B"
      },
      "outputs": [],
      "source": [
        "train = pd.read_csv(\"../data/train.csv\")\n",
        "# test = pd.read_csv(\"../data/test.csv\")\n",
        "# train, test = train_test_split(train, test_size=0.2)\n"
      ]
    },
    {
      "cell_type": "code",
      "execution_count": null,
      "metadata": {
        "colab": {
          "base_uri": "https://localhost:8080/",
          "height": 204
        },
        "id": "9-DJDEsmqW5B",
        "outputId": "bb081968-f5ca-4aa9-8a4a-32b7970397b8"
      },
      "outputs": [
        {
          "data": {
            "text/html": [
              "<div>\n",
              "<style scoped>\n",
              "    .dataframe tbody tr th:only-of-type {\n",
              "        vertical-align: middle;\n",
              "    }\n",
              "\n",
              "    .dataframe tbody tr th {\n",
              "        vertical-align: top;\n",
              "    }\n",
              "\n",
              "    .dataframe thead th {\n",
              "        text-align: right;\n",
              "    }\n",
              "</style>\n",
              "<table border=\"1\" class=\"dataframe\">\n",
              "  <thead>\n",
              "    <tr style=\"text-align: right;\">\n",
              "      <th></th>\n",
              "      <th>text</th>\n",
              "      <th>aspect</th>\n",
              "      <th>label</th>\n",
              "    </tr>\n",
              "  </thead>\n",
              "  <tbody>\n",
              "    <tr>\n",
              "      <th>3447</th>\n",
              "      <td>so my colleague used one of your templates to ...</td>\n",
              "      <td>template</td>\n",
              "      <td>1</td>\n",
              "    </tr>\n",
              "    <tr>\n",
              "      <th>1158</th>\n",
              "      <td>It’s just me, yet I can’t get notifications un...</td>\n",
              "      <td>get notifications</td>\n",
              "      <td>0</td>\n",
              "    </tr>\n",
              "    <tr>\n",
              "      <th>2390</th>\n",
              "      <td>Application that is used relatively little, we...</td>\n",
              "      <td>desktop application</td>\n",
              "      <td>2</td>\n",
              "    </tr>\n",
              "    <tr>\n",
              "      <th>70</th>\n",
              "      <td>no immediate solution to queries</td>\n",
              "      <td>No immediate solution</td>\n",
              "      <td>0</td>\n",
              "    </tr>\n",
              "    <tr>\n",
              "      <th>486</th>\n",
              "      <td>this app has the best feature of other apps pl...</td>\n",
              "      <td>links.</td>\n",
              "      <td>2</td>\n",
              "    </tr>\n",
              "  </tbody>\n",
              "</table>\n",
              "</div>"
            ],
            "text/plain": [
              "                                                   text  ... label\n",
              "3447  so my colleague used one of your templates to ...  ...     1\n",
              "1158  It’s just me, yet I can’t get notifications un...  ...     0\n",
              "2390  Application that is used relatively little, we...  ...     2\n",
              "70                     no immediate solution to queries  ...     0\n",
              "486   this app has the best feature of other apps pl...  ...     2\n",
              "\n",
              "[5 rows x 3 columns]"
            ]
          },
          "execution_count": 4,
          "metadata": {
            "tags": []
          },
          "output_type": "execute_result"
        }
      ],
      "source": [
        "train.head()"
      ]
    },
    {
      "cell_type": "code",
      "execution_count": null,
      "metadata": {
        "id": "Rq0DMaOXqW5C"
      },
      "outputs": [],
      "source": [
        "data_plt = train['label'].value_counts()"
      ]
    },
    {
      "cell_type": "code",
      "execution_count": null,
      "metadata": {
        "id": "0On0bJn8qW5C"
      },
      "outputs": [],
      "source": [
        "def preprocess(df):\n",
        "    df['text'] = df['text'].apply(lambda x : str(x).lower())\n",
        "    df['label'] = df['label'].apply(lambda x : int(x))\n",
        "    df['aspect'] = df['aspect'].apply(lambda x : str(x).lower())\n",
        "    df['text'] = df['text'].apply(lambda x : str(x).translate(str.maketrans('','',string.punctuation))) #removing punctuation\n",
        "    df['aspect'] = df['aspect'].apply(lambda x : str(x).translate(str.maketrans('','',string.punctuation))) #removing punctuation\n",
        "    df['text'] = df['text'].apply(lambda x : str(x).translate(str.maketrans('','',string.digits))) #removing integers\n",
        "    df['aspect'] = df['aspect'].apply(lambda x : str(x).translate(str.maketrans('','',string.digits))) #removing integers\n",
        "    return df"
      ]
    },
    {
      "cell_type": "code",
      "execution_count": null,
      "metadata": {
        "colab": {
          "base_uri": "https://localhost:8080/",
          "height": 302
        },
        "id": "509fXnVAqW5D",
        "outputId": "c06846ea-161d-419a-877a-ea40abdb8841"
      },
      "outputs": [
        {
          "name": "stdout",
          "output_type": "stream",
          "text": [
            "[1343 1025  832]\n"
          ]
        },
        {
          "data": {
            "text/plain": [
              "<BarContainer object of 3 artists>"
            ]
          },
          "execution_count": 8,
          "metadata": {
            "tags": []
          },
          "output_type": "execute_result"
        },
        {
          "data": {
            "image/png": "[encoded data removed]",
            "text/plain": [
              "<Figure size 432x288 with 1 Axes>"
            ]
          },
          "metadata": {
            "needs_background": "light",
            "tags": []
          },
          "output_type": "display_data"
        }
      ],
      "source": [
        "names = ['negative', 'neutral', 'positive']\n",
        "# print(dir(data_plt))\n",
        "print(data_plt.values)\n",
        "vals = list(data_plt.values)\n",
        "plt.bar(names,vals)"
      ]
    },
    {
      "cell_type": "code",
      "execution_count": null,
      "metadata": {
        "id": "CIOhHaX0qW5D",
        "outputId": "3e6fe66c-43bd-4769-b331-5ad703f63151"
      },
      "outputs": [
        {
          "name": "stdout",
          "output_type": "stream",
          "text": [
            "0    1680\n",
            "1    1294\n",
            "2    1026\n",
            "Name: label, dtype: int64\n"
          ]
        }
      ],
      "source": [
        "print(data_plt)"
      ]
    },
    {
      "cell_type": "code",
      "execution_count": null,
      "metadata": {
        "id": "LedpGagnqW5E"
      },
      "outputs": [],
      "source": [
        "def load():\n",
        "    train_f1 = preprocess(train)\n",
        "    test_f1 = preprocess(test)\n",
        "    tokenizer = DistilBertTokenizer.from_pretrained('distilbert-base-uncased')\n",
        "    datasets = {\n",
        "        \"train\": train_f1,\n",
        "        \"test\": test_f1,\n",
        "    }\n",
        "    for i in datasets:\n",
        "        data = datasets[i] # Get the dataset\n",
        "        labels = list(data.label)\n",
        "        encoded_tokenize = tokenizer(list(data.text),\n",
        "         list(data.aspect), \n",
        "         padding=True, \n",
        "         truncation=True, \n",
        "         max_length = 512, \n",
        "         return_tensors = \"pt\")\n",
        "        datasets[i] = torch.utils.data.TensorDataset(\n",
        "            encoded_tokenize[\"input_ids\"],\n",
        "            encoded_tokenize[\"attention_mask\"],\n",
        "            torch.tensor(labels, dtype=torch.long).reshape(-1,1)\n",
        "        )\n",
        "    \n",
        "    return datasets[\"train\"], datasets[\"test\"]\n"
      ]
    },
    {
      "cell_type": "code",
      "execution_count": null,
      "metadata": {
        "id": "wU4lBbU_qW5E"
      },
      "outputs": [],
      "source": [
        "a,b = load()"
      ]
    },
    {
      "cell_type": "code",
      "execution_count": null,
      "metadata": {
        "id": "RtVas9iDqW5F"
      },
      "outputs": [],
      "source": [
        "def acc(confusion: np.array) -> float:\n",
        "    return confusion.trace() / confusion.sum().sum()\n",
        "\n",
        "\n",
        "def mcc(confusion: np.array) -> float:\n",
        "    t = confusion.sum(0)\n",
        "    p = confusion.sum(1)\n",
        "    c = confusion.trace()\n",
        "    s = confusion.sum().sum()\n",
        "\n",
        "    num = c*s - t.dot(p)\n",
        "    den = np.sqrt(s**2 - p.dot(p))*np.sqrt(s**2 - t.dot(t))\n",
        "\n",
        "    return num / den"
      ]
    },
    {
      "cell_type": "code",
      "execution_count": null,
      "metadata": {
        "id": "mJsOXn9sqW5F"
      },
      "outputs": [],
      "source": [
        "def train_absa(config: dict):\n",
        "    device = torch.device(\"cuda\" if torch.cuda.is_available() else \"cpu\")\n",
        "\n",
        "    num_labels = 3\n",
        "    numeric_labels = list(range(num_labels))\n",
        "\n",
        "    model = DistilBertForSequenceClassification.from_pretrained('distilbert-base-uncased', num_labels=num_labels)\n",
        "    model.train()\n",
        "    model.to(device)\n",
        "\n",
        "    optimizer = AdamW(\n",
        "        model.parameters(),\n",
        "        lr=config[\"lr\"]\n",
        "    )\n",
        "\n",
        "    train_set, test_set = load()\n",
        "\n",
        "    cutoff = int(0.8 * len(train_set))\n",
        "    train_subset, val_subset = random_split(train_set, [cutoff, len(train_set) - cutoff])\n",
        "\n",
        "    train_loader = torch.utils.data.DataLoader(\n",
        "        train_subset,\n",
        "        batch_size=int(config[\"batch_size\"]),\n",
        "        shuffle=True\n",
        "    )\n",
        "    val_loader = torch.utils.data.DataLoader(\n",
        "        val_subset,\n",
        "        batch_size=int(config[\"batch_size\"]),\n",
        "        shuffle=True\n",
        "    )\n",
        "\n",
        "    # Train\n",
        "    total = (cutoff // config[\"batch_size\"]) + int(cutoff % config[\"batch_size\"] != 0)\n",
        "\n",
        "    for epoch in range(config[\"epochs\"]):\n",
        "\n",
        "        for i, (input_ids, attention_mask, labels) in tqdm(enumerate(train_loader), total=total):\n",
        "          \n",
        "            optimizer.zero_grad()\n",
        "\n",
        "            # print(labels,'labels1')\n",
        "\n",
        "            output = model(\n",
        "                input_ids=input_ids.to(device),\n",
        "                attention_mask=attention_mask.to(device),\n",
        "                labels=labels.to(device)\n",
        "            )\n",
        "            # print(labels,'labels2')\n",
        "            loss = output[\"loss\"]\n",
        "\n",
        "            loss.backward()\n",
        "            optimizer.step()\n",
        "\n",
        "        # Validation\n",
        "        running_loss = 0.0\n",
        "        steps = 0\n",
        "        confusion = np.zeros([num_labels, num_labels])\n",
        "\n",
        "        for i, (input_ids, attention_mask, labels) in enumerate(val_loader):\n",
        "\n",
        "            with torch.no_grad():\n",
        "\n",
        "                output = model(\n",
        "                    input_ids=input_ids.to(device),\n",
        "                    attention_mask=attention_mask.to(device),\n",
        "                    labels=labels.to(device)\n",
        "                )\n",
        "                loss, logits = output[\"loss\"], output[\"logits\"]\n",
        "\n",
        "                confusion += confusion_matrix(\n",
        "                    y_true=labels.flatten().cpu(), \n",
        "                    y_pred=torch.softmax(logits, -1).argmax(-1).cpu(), \n",
        "                    labels=numeric_labels\n",
        "                )\n",
        "\n",
        "                running_loss += loss.cpu().numpy()\n",
        "                steps += 1\n",
        "\n",
        "        summary = dict(\n",
        "            loss=(running_loss / steps),\n",
        "            accuracy=acc(confusion),\n",
        "            mcc=mcc(confusion)\n",
        "        )\n",
        "        print(summary)\n",
        "\n",
        "\n",
        "    torch.save(model, f\"./absa-distil_bert.pt\")\n",
        "    print(\"Finished training.\")\n",
        "\n",
        "    return model"
      ]
    },
    {
      "cell_type": "code",
      "execution_count": null,
      "metadata": {
        "id": "gARM_LUxqW5G"
      },
      "outputs": [],
      "source": [
        "config ={\n",
        "    \"epochs\": 4,\n",
        "    \"batch_size\": 24,\n",
        "    \"lr\": 2e-5\n",
        "}"
      ]
    },
    {
      "cell_type": "code",
      "execution_count": null,
      "metadata": {
        "colab": {
          "base_uri": "https://localhost:8080/",
          "height": 403,
          "referenced_widgets": [
            "35cebcea74e04a94bd573570253593de",
            "72204cd14ac74ae3ba6590b5d7c17083",
            "ebdee6a2e8034d75a1ce494b870d8b9d",
            "79a93087ad3b46a5b8993d1bf38f2dbf",
            "1bca46d95adc413580a3ad0a8776e12b",
            "8f97f436d6564bd69d08619044dc4cc8",
            "cbb627d65fe34c90a13d012837f90144",
            "e68ab71caf684e4a9e1723b5546d829d",
            "0eff49df4991435586bbc3b057dc6b97",
            "13230403d5594c939264f20e17dd8a47",
            "73fd005874504f31866dafcdd04482fa",
            "14f8398c93594b1fba64461302263029",
            "a45a56d134f74db3bb1450df885cbfd2",
            "6c8c191dcad84bfeba46991d0efcbc09",
            "a8e9bcf000f243369de86d3dad152499",
            "fbd5f7eeccfb43289db71830e5ffb9ac",
            "1e1eceabcf0a4e71b2c0ddd6d287403f",
            "37539994bcdf4b9ca56fbd517ec5e6b8",
            "7f21f9be8dfe41b89310a1692013e0b6",
            "709df50df6ef42bdb0d3a444a1520726",
            "8e0007f0a75e40a2af959dba5c2191a6",
            "cc7b131a46234229bf9a0c9ba5e44431",
            "b6904c59ba6d41b3a8910ed7184d2163",
            "395f1fc4411f42009c8351ceb17703ec",
            "8e0071f41cae4f619201b0f3b141591b",
            "544dcabc76f44150b4d49bffc9cb9b32",
            "69cf301760ed4998bf632e0a213e1c9c",
            "ab534a25340c49cd8d0eccf92a4264e6",
            "07ff19dd58d544fbac4b521451246a8b",
            "c8081f7aa4f44e5db0738de3a052b6e9",
            "0b814508475a4d13969c2d627140df6e",
            "adf9e02764b54ce7b3a4a1d3ba7e8d18"
          ]
        },
        "id": "JEy6sUozqW5H",
        "outputId": "481061e4-41f3-4a26-d379-88149b88bbd9"
      },
      "outputs": [
        {
          "name": "stderr",
          "output_type": "stream",
          "text": [
            "Some weights of the model checkpoint at distilbert-base-uncased were not used when initializing DistilBertForSequenceClassification: ['vocab_transform.bias', 'vocab_projector.weight', 'vocab_transform.weight', 'vocab_layer_norm.bias', 'vocab_layer_norm.weight', 'vocab_projector.bias']\n",
            "- This IS expected if you are initializing DistilBertForSequenceClassification from the checkpoint of a model trained on another task or with another architecture (e.g. initializing a BertForSequenceClassification model from a BertForPreTraining model).\n",
            "- This IS NOT expected if you are initializing DistilBertForSequenceClassification from the checkpoint of a model that you expect to be exactly identical (initializing a BertForSequenceClassification model from a BertForSequenceClassification model).\n",
            "Some weights of DistilBertForSequenceClassification were not initialized from the model checkpoint at distilbert-base-uncased and are newly initialized: ['classifier.bias', 'classifier.weight', 'pre_classifier.weight', 'pre_classifier.bias']\n",
            "You should probably TRAIN this model on a down-stream task to be able to use it for predictions and inference.\n"
          ]
        },
        {
          "data": {
            "application/vnd.jupyter.widget-view+json": {
              "model_id": "35cebcea74e04a94bd573570253593de",
              "version_major": 2,
              "version_minor": 0
            },
            "text/plain": [
              "HBox(children=(FloatProgress(value=0.0, max=107.0), HTML(value='')))"
            ]
          },
          "metadata": {
            "tags": []
          },
          "output_type": "display_data"
        },
        {
          "name": "stdout",
          "output_type": "stream",
          "text": [
            "\n",
            "{'loss': 0.7288350352534542, 'accuracy': 0.678125, 'mcc': 0.5093228346302457}\n"
          ]
        },
        {
          "data": {
            "application/vnd.jupyter.widget-view+json": {
              "model_id": "0eff49df4991435586bbc3b057dc6b97",
              "version_major": 2,
              "version_minor": 0
            },
            "text/plain": [
              "HBox(children=(FloatProgress(value=0.0, max=107.0), HTML(value='')))"
            ]
          },
          "metadata": {
            "tags": []
          },
          "output_type": "display_data"
        },
        {
          "name": "stdout",
          "output_type": "stream",
          "text": [
            "\n",
            "{'loss': 0.6657927996582456, 'accuracy': 0.7171875, 'mcc': 0.5631030502937846}\n"
          ]
        },
        {
          "data": {
            "application/vnd.jupyter.widget-view+json": {
              "model_id": "1e1eceabcf0a4e71b2c0ddd6d287403f",
              "version_major": 2,
              "version_minor": 0
            },
            "text/plain": [
              "HBox(children=(FloatProgress(value=0.0, max=107.0), HTML(value='')))"
            ]
          },
          "metadata": {
            "tags": []
          },
          "output_type": "display_data"
        },
        {
          "name": "stdout",
          "output_type": "stream",
          "text": [
            "\n",
            "{'loss': 0.6964831252892812, 'accuracy': 0.7265625, 'mcc': 0.5826752175707954}\n"
          ]
        },
        {
          "data": {
            "application/vnd.jupyter.widget-view+json": {
              "model_id": "8e0071f41cae4f619201b0f3b141591b",
              "version_major": 2,
              "version_minor": 0
            },
            "text/plain": [
              "HBox(children=(FloatProgress(value=0.0, max=107.0), HTML(value='')))"
            ]
          },
          "metadata": {
            "tags": []
          },
          "output_type": "display_data"
        },
        {
          "name": "stdout",
          "output_type": "stream",
          "text": [
            "\n",
            "{'loss': 0.8420388196353559, 'accuracy': 0.7109375, 'mcc': 0.5563670756242387}\n",
            "Finished training.\n"
          ]
        }
      ],
      "source": [
        "model = train_absa(config)"
      ]
    },
    {
      "cell_type": "code",
      "execution_count": null,
      "metadata": {
        "id": "k9zlalw5rG1D"
      },
      "outputs": [],
      "source": [
        "def evaluate(model, ds, config):\n",
        "    device = torch.device(\"cuda\" if torch.cuda.is_available() else \"cpu\")\n",
        "\n",
        "    num_labels = 3\n",
        "    numeric_labels = list(range(num_labels))\n",
        "\n",
        "    test_loader = torch.utils.data.DataLoader(\n",
        "        ds,\n",
        "        batch_size=int(config[\"batch_size\"]),\n",
        "        shuffle=True\n",
        "    )\n",
        "    model.eval()\n",
        "\n",
        "    test_loss = 0\n",
        "    test_steps = 0\n",
        "    confusion = np.zeros([num_labels, num_labels])\n",
        "\n",
        "    for i, (input_ids, attention_mask, labels) in enumerate(test_loader):\n",
        "\n",
        "        with torch.no_grad():\n",
        "\n",
        "            output = model(\n",
        "                input_ids=input_ids.to(device),\n",
        "                attention_mask=attention_mask.to(device),\n",
        "                labels=labels.to(device)\n",
        "            )\n",
        "            loss, logits = output[\"loss\"], output[\"logits\"]\n",
        "\n",
        "            confusion += confusion_matrix(\n",
        "                y_true=labels.flatten().cpu(), \n",
        "                y_pred=torch.softmax(logits, -1).argmax(-1).cpu(), \n",
        "                labels=numeric_labels\n",
        "            )\n",
        "\n",
        "            test_loss += loss.cpu().numpy()\n",
        "            test_steps += 1\n",
        "\n",
        "    print(\"Test Results:\")\n",
        "    summary = dict(\n",
        "        model=\"distilbert\",\n",
        "        loss=(test_loss / test_steps),\n",
        "        accuracy=acc(confusion),\n",
        "        mcc=mcc(confusion)\n",
        "    )\n",
        "    print(summary)\n",
        "\n",
        "    return summary, confusion"
      ]
    },
    {
      "cell_type": "code",
      "execution_count": null,
      "metadata": {
        "id": "WOxnhq0smPVd"
      },
      "outputs": [],
      "source": [
        "model = torch.load('absa-distil_bert.pt')"
      ]
    },
    {
      "cell_type": "code",
      "execution_count": null,
      "metadata": {
        "id": "nSOWQ6dzmX0y"
      },
      "outputs": [],
      "source": [
        "_,test = load()"
      ]
    },
    {
      "cell_type": "code",
      "execution_count": null,
      "metadata": {
        "colab": {
          "base_uri": "https://localhost:8080/"
        },
        "id": "3CptClPomaJg",
        "outputId": "fb4415e6-1781-4928-b4cb-dcb44ae9584c"
      },
      "outputs": [
        {
          "name": "stdout",
          "output_type": "stream",
          "text": [
            "Test Results:\n",
            "{'model': 'distilbert', 'loss': 0.8242011070251465, 'accuracy': 0.715, 'mcc': 0.56469560054435}\n"
          ]
        }
      ],
      "source": [
        "summary, confusion = evaluate(model, test, config)"
      ]
    },
    {
      "cell_type": "code",
      "execution_count": null,
      "metadata": {
        "id": "A2w7yz9HnY9V"
      },
      "outputs": [],
      "source": [
        "class SentimentAnalyzer:\n",
        "\n",
        "    def __init__(self, model, model_name, df):\n",
        "        self.device = torch.device(\"cuda\" if torch.cuda.is_available() else \"cpu\")\n",
        "        self.model = model.to(self.device)\n",
        "        self.tokenizer = DistilBertTokenizer.from_pretrained('distilbert-base-uncased')\n",
        "        self.aspects = list(df[\"aspect\"])\n",
        "        self.labels = [\"negative\",\"neutral\",\"positive\"]\n",
        "\n",
        "    def __call__(self, text: str) -> dict:\n",
        "\n",
        "        encoded = self.tokenizer(\n",
        "            5*[text],\n",
        "            self.aspects,\n",
        "            padding=True,\n",
        "            truncation=True,\n",
        "            max_length=512,\n",
        "            return_tensors=\"pt\"\n",
        "        )\n",
        "\n",
        "        with torch.no_grad():\n",
        "            input_ids = encoded[\"input_ids\"].to(self.device)\n",
        "            attention_mask = encoded[\"attention_mask\"].to(self.device)\n",
        "\n",
        "            output = model(\n",
        "                input_ids=input_ids,\n",
        "                attention_mask=attention_mask\n",
        "            )\n",
        "            logits = output[\"logits\"]\n",
        "\n",
        "            predicted = torch.softmax(logits, -1).argmax(-1)\n",
        "            y_pred = predicted.cpu()\n",
        "\n",
        "        return {a: self.labels[y_pred[i]] for i, a in enumerate(self.aspects)}\n",
        "\n",
        "absa = SentimentAnalyzer(model, config[\"model_id\"])"
      ]
    }
  ],
  "metadata": {
    "accelerator": "GPU",
    "colab": {
      "name": "data_analysis.ipynb",
      "provenance": []
    },
    "interpreter": {
      "hash": "769a8819f3e3355fd3b9cf0b9760837342d539595e65842cf2f42ff50a75406d"
    },
    "kernelspec": {
      "display_name": "Python 3.7.4 64-bit ('enterpret-env': venv)",
      "name": "python3"
    },
    "language_info": {
      "name": "python",
      "version": ""
    },
    "orig_nbformat": 4,
    "widgets": {
      "application/vnd.jupyter.widget-state+json": {
        "07ff19dd58d544fbac4b521451246a8b": {
          "model_module": "@jupyter-widgets/controls",
          "model_name": "ProgressStyleModel",
          "state": {
            "_model_module": "@jupyter-widgets/controls",
            "_model_module_version": "1.5.0",
            "_model_name": "ProgressStyleModel",
            "_view_count": null,
            "_view_module": "@jupyter-widgets/base",
            "_view_module_version": "1.2.0",
            "_view_name": "StyleView",
            "bar_color": null,
            "description_width": "initial"
          }
        },
        "0b814508475a4d13969c2d627140df6e": {
          "model_module": "@jupyter-widgets/controls",
          "model_name": "DescriptionStyleModel",
          "state": {
            "_model_module": "@jupyter-widgets/controls",
            "_model_module_version": "1.5.0",
            "_model_name": "DescriptionStyleModel",
            "_view_count": null,
            "_view_module": "@jupyter-widgets/base",
            "_view_module_version": "1.2.0",
            "_view_name": "StyleView",
            "description_width": ""
          }
        },
        "0eff49df4991435586bbc3b057dc6b97": {
          "model_module": "@jupyter-widgets/controls",
          "model_name": "HBoxModel",
          "state": {
            "_dom_classes": [],
            "_model_module": "@jupyter-widgets/controls",
            "_model_module_version": "1.5.0",
            "_model_name": "HBoxModel",
            "_view_count": null,
            "_view_module": "@jupyter-widgets/controls",
            "_view_module_version": "1.5.0",
            "_view_name": "HBoxView",
            "box_style": "",
            "children": [
              "IPY_MODEL_73fd005874504f31866dafcdd04482fa",
              "IPY_MODEL_14f8398c93594b1fba64461302263029"
            ],
            "layout": "IPY_MODEL_13230403d5594c939264f20e17dd8a47"
          }
        },
        "13230403d5594c939264f20e17dd8a47": {
          "model_module": "@jupyter-widgets/base",
          "model_name": "LayoutModel",
          "state": {
            "_model_module": "@jupyter-widgets/base",
            "_model_module_version": "1.2.0",
            "_model_name": "LayoutModel",
            "_view_count": null,
            "_view_module": "@jupyter-widgets/base",
            "_view_module_version": "1.2.0",
            "_view_name": "LayoutView",
            "align_content": null,
            "align_items": null,
            "align_self": null,
            "border": null,
            "bottom": null,
            "display": null,
            "flex": null,
            "flex_flow": null,
            "grid_area": null,
            "grid_auto_columns": null,
            "grid_auto_flow": null,
            "grid_auto_rows": null,
            "grid_column": null,
            "grid_gap": null,
            "grid_row": null,
            "grid_template_areas": null,
            "grid_template_columns": null,
            "grid_template_rows": null,
            "height": null,
            "justify_content": null,
            "justify_items": null,
            "left": null,
            "margin": null,
            "max_height": null,
            "max_width": null,
            "min_height": null,
            "min_width": null,
            "object_fit": null,
            "object_position": null,
            "order": null,
            "overflow": null,
            "overflow_x": null,
            "overflow_y": null,
            "padding": null,
            "right": null,
            "top": null,
            "visibility": null,
            "width": null
          }
        },
        "14f8398c93594b1fba64461302263029": {
          "model_module": "@jupyter-widgets/controls",
          "model_name": "HTMLModel",
          "state": {
            "_dom_classes": [],
            "_model_module": "@jupyter-widgets/controls",
            "_model_module_version": "1.5.0",
            "_model_name": "HTMLModel",
            "_view_count": null,
            "_view_module": "@jupyter-widgets/controls",
            "_view_module_version": "1.5.0",
            "_view_name": "HTMLView",
            "description": "",
            "description_tooltip": null,
            "layout": "IPY_MODEL_fbd5f7eeccfb43289db71830e5ffb9ac",
            "placeholder": "​",
            "style": "IPY_MODEL_a8e9bcf000f243369de86d3dad152499",
            "value": " 107/107 [47:58&lt;00:00, 26.90s/it]"
          }
        },
        "1bca46d95adc413580a3ad0a8776e12b": {
          "model_module": "@jupyter-widgets/controls",
          "model_name": "ProgressStyleModel",
          "state": {
            "_model_module": "@jupyter-widgets/controls",
            "_model_module_version": "1.5.0",
            "_model_name": "ProgressStyleModel",
            "_view_count": null,
            "_view_module": "@jupyter-widgets/base",
            "_view_module_version": "1.2.0",
            "_view_name": "StyleView",
            "bar_color": null,
            "description_width": "initial"
          }
        },
        "1e1eceabcf0a4e71b2c0ddd6d287403f": {
          "model_module": "@jupyter-widgets/controls",
          "model_name": "HBoxModel",
          "state": {
            "_dom_classes": [],
            "_model_module": "@jupyter-widgets/controls",
            "_model_module_version": "1.5.0",
            "_model_name": "HBoxModel",
            "_view_count": null,
            "_view_module": "@jupyter-widgets/controls",
            "_view_module_version": "1.5.0",
            "_view_name": "HBoxView",
            "box_style": "",
            "children": [
              "IPY_MODEL_7f21f9be8dfe41b89310a1692013e0b6",
              "IPY_MODEL_709df50df6ef42bdb0d3a444a1520726"
            ],
            "layout": "IPY_MODEL_37539994bcdf4b9ca56fbd517ec5e6b8"
          }
        },
        "35cebcea74e04a94bd573570253593de": {
          "model_module": "@jupyter-widgets/controls",
          "model_name": "HBoxModel",
          "state": {
            "_dom_classes": [],
            "_model_module": "@jupyter-widgets/controls",
            "_model_module_version": "1.5.0",
            "_model_name": "HBoxModel",
            "_view_count": null,
            "_view_module": "@jupyter-widgets/controls",
            "_view_module_version": "1.5.0",
            "_view_name": "HBoxView",
            "box_style": "",
            "children": [
              "IPY_MODEL_ebdee6a2e8034d75a1ce494b870d8b9d",
              "IPY_MODEL_79a93087ad3b46a5b8993d1bf38f2dbf"
            ],
            "layout": "IPY_MODEL_72204cd14ac74ae3ba6590b5d7c17083"
          }
        },
        "37539994bcdf4b9ca56fbd517ec5e6b8": {
          "model_module": "@jupyter-widgets/base",
          "model_name": "LayoutModel",
          "state": {
            "_model_module": "@jupyter-widgets/base",
            "_model_module_version": "1.2.0",
            "_model_name": "LayoutModel",
            "_view_count": null,
            "_view_module": "@jupyter-widgets/base",
            "_view_module_version": "1.2.0",
            "_view_name": "LayoutView",
            "align_content": null,
            "align_items": null,
            "align_self": null,
            "border": null,
            "bottom": null,
            "display": null,
            "flex": null,
            "flex_flow": null,
            "grid_area": null,
            "grid_auto_columns": null,
            "grid_auto_flow": null,
            "grid_auto_rows": null,
            "grid_column": null,
            "grid_gap": null,
            "grid_row": null,
            "grid_template_areas": null,
            "grid_template_columns": null,
            "grid_template_rows": null,
            "height": null,
            "justify_content": null,
            "justify_items": null,
            "left": null,
            "margin": null,
            "max_height": null,
            "max_width": null,
            "min_height": null,
            "min_width": null,
            "object_fit": null,
            "object_position": null,
            "order": null,
            "overflow": null,
            "overflow_x": null,
            "overflow_y": null,
            "padding": null,
            "right": null,
            "top": null,
            "visibility": null,
            "width": null
          }
        },
        "395f1fc4411f42009c8351ceb17703ec": {
          "model_module": "@jupyter-widgets/base",
          "model_name": "LayoutModel",
          "state": {
            "_model_module": "@jupyter-widgets/base",
            "_model_module_version": "1.2.0",
            "_model_name": "LayoutModel",
            "_view_count": null,
            "_view_module": "@jupyter-widgets/base",
            "_view_module_version": "1.2.0",
            "_view_name": "LayoutView",
            "align_content": null,
            "align_items": null,
            "align_self": null,
            "border": null,
            "bottom": null,
            "display": null,
            "flex": null,
            "flex_flow": null,
            "grid_area": null,
            "grid_auto_columns": null,
            "grid_auto_flow": null,
            "grid_auto_rows": null,
            "grid_column": null,
            "grid_gap": null,
            "grid_row": null,
            "grid_template_areas": null,
            "grid_template_columns": null,
            "grid_template_rows": null,
            "height": null,
            "justify_content": null,
            "justify_items": null,
            "left": null,
            "margin": null,
            "max_height": null,
            "max_width": null,
            "min_height": null,
            "min_width": null,
            "object_fit": null,
            "object_position": null,
            "order": null,
            "overflow": null,
            "overflow_x": null,
            "overflow_y": null,
            "padding": null,
            "right": null,
            "top": null,
            "visibility": null,
            "width": null
          }
        },
        "544dcabc76f44150b4d49bffc9cb9b32": {
          "model_module": "@jupyter-widgets/base",
          "model_name": "LayoutModel",
          "state": {
            "_model_module": "@jupyter-widgets/base",
            "_model_module_version": "1.2.0",
            "_model_name": "LayoutModel",
            "_view_count": null,
            "_view_module": "@jupyter-widgets/base",
            "_view_module_version": "1.2.0",
            "_view_name": "LayoutView",
            "align_content": null,
            "align_items": null,
            "align_self": null,
            "border": null,
            "bottom": null,
            "display": null,
            "flex": null,
            "flex_flow": null,
            "grid_area": null,
            "grid_auto_columns": null,
            "grid_auto_flow": null,
            "grid_auto_rows": null,
            "grid_column": null,
            "grid_gap": null,
            "grid_row": null,
            "grid_template_areas": null,
            "grid_template_columns": null,
            "grid_template_rows": null,
            "height": null,
            "justify_content": null,
            "justify_items": null,
            "left": null,
            "margin": null,
            "max_height": null,
            "max_width": null,
            "min_height": null,
            "min_width": null,
            "object_fit": null,
            "object_position": null,
            "order": null,
            "overflow": null,
            "overflow_x": null,
            "overflow_y": null,
            "padding": null,
            "right": null,
            "top": null,
            "visibility": null,
            "width": null
          }
        },
        "69cf301760ed4998bf632e0a213e1c9c": {
          "model_module": "@jupyter-widgets/controls",
          "model_name": "FloatProgressModel",
          "state": {
            "_dom_classes": [],
            "_model_module": "@jupyter-widgets/controls",
            "_model_module_version": "1.5.0",
            "_model_name": "FloatProgressModel",
            "_view_count": null,
            "_view_module": "@jupyter-widgets/controls",
            "_view_module_version": "1.5.0",
            "_view_name": "ProgressView",
            "bar_style": "success",
            "description": "100%",
            "description_tooltip": null,
            "layout": "IPY_MODEL_c8081f7aa4f44e5db0738de3a052b6e9",
            "max": 107,
            "min": 0,
            "orientation": "horizontal",
            "style": "IPY_MODEL_07ff19dd58d544fbac4b521451246a8b",
            "value": 107
          }
        },
        "6c8c191dcad84bfeba46991d0efcbc09": {
          "model_module": "@jupyter-widgets/base",
          "model_name": "LayoutModel",
          "state": {
            "_model_module": "@jupyter-widgets/base",
            "_model_module_version": "1.2.0",
            "_model_name": "LayoutModel",
            "_view_count": null,
            "_view_module": "@jupyter-widgets/base",
            "_view_module_version": "1.2.0",
            "_view_name": "LayoutView",
            "align_content": null,
            "align_items": null,
            "align_self": null,
            "border": null,
            "bottom": null,
            "display": null,
            "flex": null,
            "flex_flow": null,
            "grid_area": null,
            "grid_auto_columns": null,
            "grid_auto_flow": null,
            "grid_auto_rows": null,
            "grid_column": null,
            "grid_gap": null,
            "grid_row": null,
            "grid_template_areas": null,
            "grid_template_columns": null,
            "grid_template_rows": null,
            "height": null,
            "justify_content": null,
            "justify_items": null,
            "left": null,
            "margin": null,
            "max_height": null,
            "max_width": null,
            "min_height": null,
            "min_width": null,
            "object_fit": null,
            "object_position": null,
            "order": null,
            "overflow": null,
            "overflow_x": null,
            "overflow_y": null,
            "padding": null,
            "right": null,
            "top": null,
            "visibility": null,
            "width": null
          }
        },
        "709df50df6ef42bdb0d3a444a1520726": {
          "model_module": "@jupyter-widgets/controls",
          "model_name": "HTMLModel",
          "state": {
            "_dom_classes": [],
            "_model_module": "@jupyter-widgets/controls",
            "_model_module_version": "1.5.0",
            "_model_name": "HTMLModel",
            "_view_count": null,
            "_view_module": "@jupyter-widgets/controls",
            "_view_module_version": "1.5.0",
            "_view_name": "HTMLView",
            "description": "",
            "description_tooltip": null,
            "layout": "IPY_MODEL_395f1fc4411f42009c8351ceb17703ec",
            "placeholder": "​",
            "style": "IPY_MODEL_b6904c59ba6d41b3a8910ed7184d2163",
            "value": " 107/107 [1:35:53&lt;00:00, 53.77s/it]"
          }
        },
        "72204cd14ac74ae3ba6590b5d7c17083": {
          "model_module": "@jupyter-widgets/base",
          "model_name": "LayoutModel",
          "state": {
            "_model_module": "@jupyter-widgets/base",
            "_model_module_version": "1.2.0",
            "_model_name": "LayoutModel",
            "_view_count": null,
            "_view_module": "@jupyter-widgets/base",
            "_view_module_version": "1.2.0",
            "_view_name": "LayoutView",
            "align_content": null,
            "align_items": null,
            "align_self": null,
            "border": null,
            "bottom": null,
            "display": null,
            "flex": null,
            "flex_flow": null,
            "grid_area": null,
            "grid_auto_columns": null,
            "grid_auto_flow": null,
            "grid_auto_rows": null,
            "grid_column": null,
            "grid_gap": null,
            "grid_row": null,
            "grid_template_areas": null,
            "grid_template_columns": null,
            "grid_template_rows": null,
            "height": null,
            "justify_content": null,
            "justify_items": null,
            "left": null,
            "margin": null,
            "max_height": null,
            "max_width": null,
            "min_height": null,
            "min_width": null,
            "object_fit": null,
            "object_position": null,
            "order": null,
            "overflow": null,
            "overflow_x": null,
            "overflow_y": null,
            "padding": null,
            "right": null,
            "top": null,
            "visibility": null,
            "width": null
          }
        },
        "73fd005874504f31866dafcdd04482fa": {
          "model_module": "@jupyter-widgets/controls",
          "model_name": "FloatProgressModel",
          "state": {
            "_dom_classes": [],
            "_model_module": "@jupyter-widgets/controls",
            "_model_module_version": "1.5.0",
            "_model_name": "FloatProgressModel",
            "_view_count": null,
            "_view_module": "@jupyter-widgets/controls",
            "_view_module_version": "1.5.0",
            "_view_name": "ProgressView",
            "bar_style": "success",
            "description": "100%",
            "description_tooltip": null,
            "layout": "IPY_MODEL_6c8c191dcad84bfeba46991d0efcbc09",
            "max": 107,
            "min": 0,
            "orientation": "horizontal",
            "style": "IPY_MODEL_a45a56d134f74db3bb1450df885cbfd2",
            "value": 107
          }
        },
        "79a93087ad3b46a5b8993d1bf38f2dbf": {
          "model_module": "@jupyter-widgets/controls",
          "model_name": "HTMLModel",
          "state": {
            "_dom_classes": [],
            "_model_module": "@jupyter-widgets/controls",
            "_model_module_version": "1.5.0",
            "_model_name": "HTMLModel",
            "_view_count": null,
            "_view_module": "@jupyter-widgets/controls",
            "_view_module_version": "1.5.0",
            "_view_name": "HTMLView",
            "description": "",
            "description_tooltip": null,
            "layout": "IPY_MODEL_e68ab71caf684e4a9e1723b5546d829d",
            "placeholder": "​",
            "style": "IPY_MODEL_cbb627d65fe34c90a13d012837f90144",
            "value": " 107/107 [3:11:58&lt;00:00, 107.65s/it]"
          }
        },
        "7f21f9be8dfe41b89310a1692013e0b6": {
          "model_module": "@jupyter-widgets/controls",
          "model_name": "FloatProgressModel",
          "state": {
            "_dom_classes": [],
            "_model_module": "@jupyter-widgets/controls",
            "_model_module_version": "1.5.0",
            "_model_name": "FloatProgressModel",
            "_view_count": null,
            "_view_module": "@jupyter-widgets/controls",
            "_view_module_version": "1.5.0",
            "_view_name": "ProgressView",
            "bar_style": "success",
            "description": "100%",
            "description_tooltip": null,
            "layout": "IPY_MODEL_cc7b131a46234229bf9a0c9ba5e44431",
            "max": 107,
            "min": 0,
            "orientation": "horizontal",
            "style": "IPY_MODEL_8e0007f0a75e40a2af959dba5c2191a6",
            "value": 107
          }
        },
        "8e0007f0a75e40a2af959dba5c2191a6": {
          "model_module": "@jupyter-widgets/controls",
          "model_name": "ProgressStyleModel",
          "state": {
            "_model_module": "@jupyter-widgets/controls",
            "_model_module_version": "1.5.0",
            "_model_name": "ProgressStyleModel",
            "_view_count": null,
            "_view_module": "@jupyter-widgets/base",
            "_view_module_version": "1.2.0",
            "_view_name": "StyleView",
            "bar_color": null,
            "description_width": "initial"
          }
        },
        "8e0071f41cae4f619201b0f3b141591b": {
          "model_module": "@jupyter-widgets/controls",
          "model_name": "HBoxModel",
          "state": {
            "_dom_classes": [],
            "_model_module": "@jupyter-widgets/controls",
            "_model_module_version": "1.5.0",
            "_model_name": "HBoxModel",
            "_view_count": null,
            "_view_module": "@jupyter-widgets/controls",
            "_view_module_version": "1.5.0",
            "_view_name": "HBoxView",
            "box_style": "",
            "children": [
              "IPY_MODEL_69cf301760ed4998bf632e0a213e1c9c",
              "IPY_MODEL_ab534a25340c49cd8d0eccf92a4264e6"
            ],
            "layout": "IPY_MODEL_544dcabc76f44150b4d49bffc9cb9b32"
          }
        },
        "8f97f436d6564bd69d08619044dc4cc8": {
          "model_module": "@jupyter-widgets/base",
          "model_name": "LayoutModel",
          "state": {
            "_model_module": "@jupyter-widgets/base",
            "_model_module_version": "1.2.0",
            "_model_name": "LayoutModel",
            "_view_count": null,
            "_view_module": "@jupyter-widgets/base",
            "_view_module_version": "1.2.0",
            "_view_name": "LayoutView",
            "align_content": null,
            "align_items": null,
            "align_self": null,
            "border": null,
            "bottom": null,
            "display": null,
            "flex": null,
            "flex_flow": null,
            "grid_area": null,
            "grid_auto_columns": null,
            "grid_auto_flow": null,
            "grid_auto_rows": null,
            "grid_column": null,
            "grid_gap": null,
            "grid_row": null,
            "grid_template_areas": null,
            "grid_template_columns": null,
            "grid_template_rows": null,
            "height": null,
            "justify_content": null,
            "justify_items": null,
            "left": null,
            "margin": null,
            "max_height": null,
            "max_width": null,
            "min_height": null,
            "min_width": null,
            "object_fit": null,
            "object_position": null,
            "order": null,
            "overflow": null,
            "overflow_x": null,
            "overflow_y": null,
            "padding": null,
            "right": null,
            "top": null,
            "visibility": null,
            "width": null
          }
        },
        "a45a56d134f74db3bb1450df885cbfd2": {
          "model_module": "@jupyter-widgets/controls",
          "model_name": "ProgressStyleModel",
          "state": {
            "_model_module": "@jupyter-widgets/controls",
            "_model_module_version": "1.5.0",
            "_model_name": "ProgressStyleModel",
            "_view_count": null,
            "_view_module": "@jupyter-widgets/base",
            "_view_module_version": "1.2.0",
            "_view_name": "StyleView",
            "bar_color": null,
            "description_width": "initial"
          }
        },
        "a8e9bcf000f243369de86d3dad152499": {
          "model_module": "@jupyter-widgets/controls",
          "model_name": "DescriptionStyleModel",
          "state": {
            "_model_module": "@jupyter-widgets/controls",
            "_model_module_version": "1.5.0",
            "_model_name": "DescriptionStyleModel",
            "_view_count": null,
            "_view_module": "@jupyter-widgets/base",
            "_view_module_version": "1.2.0",
            "_view_name": "StyleView",
            "description_width": ""
          }
        },
        "ab534a25340c49cd8d0eccf92a4264e6": {
          "model_module": "@jupyter-widgets/controls",
          "model_name": "HTMLModel",
          "state": {
            "_dom_classes": [],
            "_model_module": "@jupyter-widgets/controls",
            "_model_module_version": "1.5.0",
            "_model_name": "HTMLModel",
            "_view_count": null,
            "_view_module": "@jupyter-widgets/controls",
            "_view_module_version": "1.5.0",
            "_view_name": "HTMLView",
            "description": "",
            "description_tooltip": null,
            "layout": "IPY_MODEL_adf9e02764b54ce7b3a4a1d3ba7e8d18",
            "placeholder": "​",
            "style": "IPY_MODEL_0b814508475a4d13969c2d627140df6e",
            "value": " 107/107 [47:55&lt;00:00, 26.88s/it]"
          }
        },
        "adf9e02764b54ce7b3a4a1d3ba7e8d18": {
          "model_module": "@jupyter-widgets/base",
          "model_name": "LayoutModel",
          "state": {
            "_model_module": "@jupyter-widgets/base",
            "_model_module_version": "1.2.0",
            "_model_name": "LayoutModel",
            "_view_count": null,
            "_view_module": "@jupyter-widgets/base",
            "_view_module_version": "1.2.0",
            "_view_name": "LayoutView",
            "align_content": null,
            "align_items": null,
            "align_self": null,
            "border": null,
            "bottom": null,
            "display": null,
            "flex": null,
            "flex_flow": null,
            "grid_area": null,
            "grid_auto_columns": null,
            "grid_auto_flow": null,
            "grid_auto_rows": null,
            "grid_column": null,
            "grid_gap": null,
            "grid_row": null,
            "grid_template_areas": null,
            "grid_template_columns": null,
            "grid_template_rows": null,
            "height": null,
            "justify_content": null,
            "justify_items": null,
            "left": null,
            "margin": null,
            "max_height": null,
            "max_width": null,
            "min_height": null,
            "min_width": null,
            "object_fit": null,
            "object_position": null,
            "order": null,
            "overflow": null,
            "overflow_x": null,
            "overflow_y": null,
            "padding": null,
            "right": null,
            "top": null,
            "visibility": null,
            "width": null
          }
        },
        "b6904c59ba6d41b3a8910ed7184d2163": {
          "model_module": "@jupyter-widgets/controls",
          "model_name": "DescriptionStyleModel",
          "state": {
            "_model_module": "@jupyter-widgets/controls",
            "_model_module_version": "1.5.0",
            "_model_name": "DescriptionStyleModel",
            "_view_count": null,
            "_view_module": "@jupyter-widgets/base",
            "_view_module_version": "1.2.0",
            "_view_name": "StyleView",
            "description_width": ""
          }
        },
        "c8081f7aa4f44e5db0738de3a052b6e9": {
          "model_module": "@jupyter-widgets/base",
          "model_name": "LayoutModel",
          "state": {
            "_model_module": "@jupyter-widgets/base",
            "_model_module_version": "1.2.0",
            "_model_name": "LayoutModel",
            "_view_count": null,
            "_view_module": "@jupyter-widgets/base",
            "_view_module_version": "1.2.0",
            "_view_name": "LayoutView",
            "align_content": null,
            "align_items": null,
            "align_self": null,
            "border": null,
            "bottom": null,
            "display": null,
            "flex": null,
            "flex_flow": null,
            "grid_area": null,
            "grid_auto_columns": null,
            "grid_auto_flow": null,
            "grid_auto_rows": null,
            "grid_column": null,
            "grid_gap": null,
            "grid_row": null,
            "grid_template_areas": null,
            "grid_template_columns": null,
            "grid_template_rows": null,
            "height": null,
            "justify_content": null,
            "justify_items": null,
            "left": null,
            "margin": null,
            "max_height": null,
            "max_width": null,
            "min_height": null,
            "min_width": null,
            "object_fit": null,
            "object_position": null,
            "order": null,
            "overflow": null,
            "overflow_x": null,
            "overflow_y": null,
            "padding": null,
            "right": null,
            "top": null,
            "visibility": null,
            "width": null
          }
        },
        "cbb627d65fe34c90a13d012837f90144": {
          "model_module": "@jupyter-widgets/controls",
          "model_name": "DescriptionStyleModel",
          "state": {
            "_model_module": "@jupyter-widgets/controls",
            "_model_module_version": "1.5.0",
            "_model_name": "DescriptionStyleModel",
            "_view_count": null,
            "_view_module": "@jupyter-widgets/base",
            "_view_module_version": "1.2.0",
            "_view_name": "StyleView",
            "description_width": ""
          }
        },
        "cc7b131a46234229bf9a0c9ba5e44431": {
          "model_module": "@jupyter-widgets/base",
          "model_name": "LayoutModel",
          "state": {
            "_model_module": "@jupyter-widgets/base",
            "_model_module_version": "1.2.0",
            "_model_name": "LayoutModel",
            "_view_count": null,
            "_view_module": "@jupyter-widgets/base",
            "_view_module_version": "1.2.0",
            "_view_name": "LayoutView",
            "align_content": null,
            "align_items": null,
            "align_self": null,
            "border": null,
            "bottom": null,
            "display": null,
            "flex": null,
            "flex_flow": null,
            "grid_area": null,
            "grid_auto_columns": null,
            "grid_auto_flow": null,
            "grid_auto_rows": null,
            "grid_column": null,
            "grid_gap": null,
            "grid_row": null,
            "grid_template_areas": null,
            "grid_template_columns": null,
            "grid_template_rows": null,
            "height": null,
            "justify_content": null,
            "justify_items": null,
            "left": null,
            "margin": null,
            "max_height": null,
            "max_width": null,
            "min_height": null,
            "min_width": null,
            "object_fit": null,
            "object_position": null,
            "order": null,
            "overflow": null,
            "overflow_x": null,
            "overflow_y": null,
            "padding": null,
            "right": null,
            "top": null,
            "visibility": null,
            "width": null
          }
        },
        "e68ab71caf684e4a9e1723b5546d829d": {
          "model_module": "@jupyter-widgets/base",
          "model_name": "LayoutModel",
          "state": {
            "_model_module": "@jupyter-widgets/base",
            "_model_module_version": "1.2.0",
            "_model_name": "LayoutModel",
            "_view_count": null,
            "_view_module": "@jupyter-widgets/base",
            "_view_module_version": "1.2.0",
            "_view_name": "LayoutView",
            "align_content": null,
            "align_items": null,
            "align_self": null,
            "border": null,
            "bottom": null,
            "display": null,
            "flex": null,
            "flex_flow": null,
            "grid_area": null,
            "grid_auto_columns": null,
            "grid_auto_flow": null,
            "grid_auto_rows": null,
            "grid_column": null,
            "grid_gap": null,
            "grid_row": null,
            "grid_template_areas": null,
            "grid_template_columns": null,
            "grid_template_rows": null,
            "height": null,
            "justify_content": null,
            "justify_items": null,
            "left": null,
            "margin": null,
            "max_height": null,
            "max_width": null,
            "min_height": null,
            "min_width": null,
            "object_fit": null,
            "object_position": null,
            "order": null,
            "overflow": null,
            "overflow_x": null,
            "overflow_y": null,
            "padding": null,
            "right": null,
            "top": null,
            "visibility": null,
            "width": null
          }
        },
        "ebdee6a2e8034d75a1ce494b870d8b9d": {
          "model_module": "@jupyter-widgets/controls",
          "model_name": "FloatProgressModel",
          "state": {
            "_dom_classes": [],
            "_model_module": "@jupyter-widgets/controls",
            "_model_module_version": "1.5.0",
            "_model_name": "FloatProgressModel",
            "_view_count": null,
            "_view_module": "@jupyter-widgets/controls",
            "_view_module_version": "1.5.0",
            "_view_name": "ProgressView",
            "bar_style": "success",
            "description": "100%",
            "description_tooltip": null,
            "layout": "IPY_MODEL_8f97f436d6564bd69d08619044dc4cc8",
            "max": 107,
            "min": 0,
            "orientation": "horizontal",
            "style": "IPY_MODEL_1bca46d95adc413580a3ad0a8776e12b",
            "value": 107
          }
        },
        "fbd5f7eeccfb43289db71830e5ffb9ac": {
          "model_module": "@jupyter-widgets/base",
          "model_name": "LayoutModel",
          "state": {
            "_model_module": "@jupyter-widgets/base",
            "_model_module_version": "1.2.0",
            "_model_name": "LayoutModel",
            "_view_count": null,
            "_view_module": "@jupyter-widgets/base",
            "_view_module_version": "1.2.0",
            "_view_name": "LayoutView",
            "align_content": null,
            "align_items": null,
            "align_self": null,
            "border": null,
            "bottom": null,
            "display": null,
            "flex": null,
            "flex_flow": null,
            "grid_area": null,
            "grid_auto_columns": null,
            "grid_auto_flow": null,
            "grid_auto_rows": null,
            "grid_column": null,
            "grid_gap": null,
            "grid_row": null,
            "grid_template_areas": null,
            "grid_template_columns": null,
            "grid_template_rows": null,
            "height": null,
            "justify_content": null,
            "justify_items": null,
            "left": null,
            "margin": null,
            "max_height": null,
            "max_width": null,
            "min_height": null,
            "min_width": null,
            "object_fit": null,
            "object_position": null,
            "order": null,
            "overflow": null,
            "overflow_x": null,
            "overflow_y": null,
            "padding": null,
            "right": null,
            "top": null,
            "visibility": null,
            "width": null
          }
        }
      }
    }
  },
  "nbformat": 4,
  "nbformat_minor": 0
}